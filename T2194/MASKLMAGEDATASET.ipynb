{
 "cells": [
  {
   "cell_type": "code",
   "execution_count": 1,
   "source": [
    "import os\r\n",
    "import torch\r\n",
    "import torch.nn as nn\r\n",
    "import torch.nn.functional as F\r\n",
    "from torch.utils.data import Dataset, DataLoader\r\n",
    "from torchvision import transforms\r\n",
    "from torchvision.transforms import Resize, ToTensor, Normalize\r\n",
    "from PIL import Image\r\n",
    "\r\n",
    "class maskImageDataset(Dataset):\r\n",
    "    def __init__(self,path,transform=None):\r\n",
    "        self.image,self.label = self.labeling(path)\r\n",
    "        self.transform = transform\r\n",
    "        \r\n",
    "    def __getitem__(self,idx):\r\n",
    "        image,label = Image.open(self.image[idx]),self.label[idx]\r\n",
    "        if self.transform:\r\n",
    "            image = self.transform(image)\r\n",
    "        return image,label\r\n",
    "\r\n",
    "    def __len__(self):\r\n",
    "            return len(self.label)\r\n",
    "\r\n",
    "    def labeling(self,paths):\r\n",
    "        x = []\r\n",
    "        y = []\r\n",
    "        for dic in os.listdir(paths):\r\n",
    "            if '._' in dic or 'ipynb_checkpoints' in dic:\r\n",
    "                continue\r\n",
    "            dir_path = paths + '/'+ dic\r\n",
    "            code = 0\r\n",
    "            if dic[7] == 'f':\r\n",
    "                code = 3\r\n",
    "            age = int(dic[-2:])\r\n",
    "            if age >= 60:\r\n",
    "                code += 2\r\n",
    "            elif age >=30:\r\n",
    "                code += 1\r\n",
    "            for image in os.listdir(dir_path):\r\n",
    "                if '._' in image or 'ipynb_checkpoints' in image:\r\n",
    "                    continue\r\n",
    "                image_path = dir_path + '/' + image \r\n",
    "                x.append(image_path)\r\n",
    "                label = [0 for _ in range(18)]\r\n",
    "                y.append(self.mask_labeling(image,code))\r\n",
    "        return x,y\r\n",
    "                \r\n",
    "    def mask_labeling(self,path,inputs):\r\n",
    "        if 'incorrect_mask' in path:\r\n",
    "            return inputs + 6\r\n",
    "        elif 'normal' in path:\r\n",
    "            return inputs + 12\r\n",
    "        else:\r\n",
    "            return inputs\r\n",
    "\r\n"
   ],
   "outputs": [
    {
     "output_type": "error",
     "ename": "ModuleNotFoundError",
     "evalue": "No module named 'torch'",
     "traceback": [
      "\u001b[1;31m---------------------------------------------------------------------------\u001b[0m",
      "\u001b[1;31mModuleNotFoundError\u001b[0m                       Traceback (most recent call last)",
      "\u001b[1;32m<ipython-input-1-82721f5abf6f>\u001b[0m in \u001b[0;36m<module>\u001b[1;34m\u001b[0m\n\u001b[0;32m      1\u001b[0m \u001b[1;32mimport\u001b[0m \u001b[0mos\u001b[0m\u001b[1;33m\u001b[0m\u001b[1;33m\u001b[0m\u001b[0m\n\u001b[1;32m----> 2\u001b[1;33m \u001b[1;32mimport\u001b[0m \u001b[0mtorch\u001b[0m\u001b[1;33m\u001b[0m\u001b[1;33m\u001b[0m\u001b[0m\n\u001b[0m\u001b[0;32m      3\u001b[0m \u001b[1;32mimport\u001b[0m \u001b[0mtorch\u001b[0m\u001b[1;33m.\u001b[0m\u001b[0mnn\u001b[0m \u001b[1;32mas\u001b[0m \u001b[0mnn\u001b[0m\u001b[1;33m\u001b[0m\u001b[1;33m\u001b[0m\u001b[0m\n\u001b[0;32m      4\u001b[0m \u001b[1;32mimport\u001b[0m \u001b[0mtorch\u001b[0m\u001b[1;33m.\u001b[0m\u001b[0mnn\u001b[0m\u001b[1;33m.\u001b[0m\u001b[0mfunctional\u001b[0m \u001b[1;32mas\u001b[0m \u001b[0mF\u001b[0m\u001b[1;33m\u001b[0m\u001b[1;33m\u001b[0m\u001b[0m\n\u001b[0;32m      5\u001b[0m \u001b[1;32mfrom\u001b[0m \u001b[0mtorch\u001b[0m\u001b[1;33m.\u001b[0m\u001b[0mutils\u001b[0m\u001b[1;33m.\u001b[0m\u001b[0mdata\u001b[0m \u001b[1;32mimport\u001b[0m \u001b[0mDataset\u001b[0m\u001b[1;33m,\u001b[0m \u001b[0mDataLoader\u001b[0m\u001b[1;33m\u001b[0m\u001b[1;33m\u001b[0m\u001b[0m\n",
      "\u001b[1;31mModuleNotFoundError\u001b[0m: No module named 'torch'"
     ]
    }
   ],
   "metadata": {}
  },
  {
   "cell_type": "code",
   "execution_count": null,
   "source": [],
   "outputs": [],
   "metadata": {}
  },
  {
   "cell_type": "code",
   "execution_count": null,
   "source": [],
   "outputs": [],
   "metadata": {}
  },
  {
   "cell_type": "code",
   "execution_count": null,
   "source": [],
   "outputs": [],
   "metadata": {}
  }
 ],
 "metadata": {
  "kernelspec": {
   "name": "python3",
   "display_name": "Python 3.8.5 64-bit ('base': conda)"
  },
  "language_info": {
   "codemirror_mode": {
    "name": "ipython",
    "version": 3
   },
   "file_extension": ".py",
   "mimetype": "text/x-python",
   "name": "python",
   "nbconvert_exporter": "python",
   "pygments_lexer": "ipython3",
   "version": "3.8.5"
  },
  "interpreter": {
   "hash": "337f1a600d345c50cd007a2461b073851b5ec4b77bc6c65adb33d085b42175ad"
  }
 },
 "nbformat": 4,
 "nbformat_minor": 5
}